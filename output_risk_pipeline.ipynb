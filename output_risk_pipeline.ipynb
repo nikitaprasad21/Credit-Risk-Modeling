{
  "nbformat": 4,
  "nbformat_minor": 0,
  "metadata": {
    "colab": {
      "provenance": []
    },
    "kernelspec": {
      "name": "python3",
      "display_name": "Python 3"
    },
    "language_info": {
      "name": "python"
    }
  },
  "cells": [
    {
      "cell_type": "markdown",
      "source": [
        "### Importing required libraries"
      ],
      "metadata": {
        "id": "ZfOjWSH5zGJL"
      }
    },
    {
      "cell_type": "code",
      "execution_count": 27,
      "metadata": {
        "id": "igDgh1qatlaC"
      },
      "outputs": [],
      "source": [
        "import numpy as np\n",
        "import pandas as pd\n",
        "import xgboost as xgb\n",
        "from sklearn.preprocessing import (\n",
        "    OrdinalEncoder,\n",
        "    OneHotEncoder,\n",
        "    LabelEncoder,\n",
        "    MinMaxScaler,\n",
        ")\n",
        "from sklearn.compose import ColumnTransformer\n",
        "from sklearn.pipeline import Pipeline\n",
        "from sklearn.model_selection import train_test_split\n",
        "import time"
      ]
    },
    {
      "cell_type": "code",
      "source": [
        "# Loading data\n",
        "data = pd.read_csv(\"credit_data.csv\")\n",
        "# data.head(5)\n",
        "# data.drop(columns=[\"Unnamed: 0\"])\n",
        "# data.shape"
      ],
      "metadata": {
        "id": "e3L8qKlut2KZ"
      },
      "execution_count": 28,
      "outputs": []
    },
    {
      "cell_type": "code",
      "source": [
        "train_input, test_input, train_target, test_target = train_test_split(\n",
        "    data.drop(columns=[\"Approved_Flag\"]),\n",
        "    data[\"Approved_Flag\"],\n",
        "    test_size=0.2,\n",
        "    random_state=42)"
      ],
      "metadata": {
        "id": "c97pX1F9t40x"
      },
      "execution_count": 29,
      "outputs": []
    },
    {
      "cell_type": "markdown",
      "source": [
        "### Model Pipeline"
      ],
      "metadata": {
        "id": "XcrBpx_FzCdQ"
      }
    },
    {
      "cell_type": "code",
      "source": [
        "# Define transformers for each feature type\n",
        "ohe_transformers = [\n",
        "    (\n",
        "        \"ohe_martial_status\",\n",
        "        OneHotEncoder(sparse_output=False, handle_unknown=\"ignore\", drop=\"first\"),\n",
        "        [\"MARITALSTATUS\"],\n",
        "    ),\n",
        "    (\n",
        "        \"ohe_gender\",\n",
        "        OneHotEncoder(sparse_output=False, handle_unknown=\"ignore\", drop=\"first\"),\n",
        "        [\"GENDER\"],\n",
        "    ),\n",
        "    (\n",
        "        \"ohe_last_prod_enq2\",\n",
        "        OneHotEncoder(sparse_output=False, handle_unknown=\"ignore\", drop=\"first\"),\n",
        "        [\"last_prod_enq2\"],\n",
        "    ),\n",
        "    (\n",
        "        \"ohe_first_prod_enq2\",\n",
        "        OneHotEncoder(sparse_output=False, handle_unknown=\"ignore\", drop=\"first\"),\n",
        "        [\"first_prod_enq2\"],\n",
        "    ),\n",
        "]\n",
        "\n",
        "education_encoder = LabelEncoder()\n",
        "\n",
        "ordinal_transformers = [\n",
        "    (\n",
        "        \"oe_education\",\n",
        "        OrdinalEncoder(\n",
        "            # Now, categories are expected to be numerical\n",
        "            categories=[np.arange(7)]\n",
        "        ),\n",
        "        [\"EDUCATION\"],\n",
        "    ),\n",
        "]\n",
        "\n",
        "\n",
        "# Create ColumnTransformer\n",
        "trf1 = ColumnTransformer(\n",
        "    transformers=ohe_transformers + ordinal_transformers, remainder=\"passthrough\"\n",
        ")\n",
        "\n",
        "trf1.get_params"
      ],
      "metadata": {
        "colab": {
          "base_uri": "https://localhost:8080/",
          "height": 186
        },
        "id": "fK3ZYMaqt4xv",
        "outputId": "d3764969-683e-4ce8-b442-aff6f40187bd"
      },
      "execution_count": 30,
      "outputs": [
        {
          "output_type": "execute_result",
          "data": {
            "text/plain": [
              "<bound method ColumnTransformer.get_params of ColumnTransformer(remainder='passthrough',\n",
              "                  transformers=[('ohe_martial_status',\n",
              "                                 OneHotEncoder(drop='first',\n",
              "                                               handle_unknown='ignore',\n",
              "                                               sparse_output=False),\n",
              "                                 ['MARITALSTATUS']),\n",
              "                                ('ohe_gender',\n",
              "                                 OneHotEncoder(drop='first',\n",
              "                                               handle_unknown='ignore',\n",
              "                                               sparse_output=False),\n",
              "                                 ['GENDER']),\n",
              "                                ('ohe_last_prod_enq2',\n",
              "                                 OneHotEncoder(drop='first',\n",
              "                                               handle_unknown='ignore',\n",
              "                                               sparse_output=False),\n",
              "                                 ['last_prod_enq2']),\n",
              "                                ('ohe_first_prod_enq2',\n",
              "                                 OneHotEncoder(drop='first',\n",
              "                                               handle_unknown='ignore',\n",
              "                                               sparse_output=False),\n",
              "                                 ['first_prod_enq2']),\n",
              "                                ('oe_education',\n",
              "                                 OrdinalEncoder(categories=[array([0, 1, 2, 3, 4, 5, 6])]),\n",
              "                                 ['EDUCATION'])])>"
            ],
            "text/html": [
              "<div style=\"max-width:800px; border: 1px solid var(--colab-border-color);\"><style>\n",
              "      pre.function-repr-contents {\n",
              "        overflow-x: auto;\n",
              "        padding: 8px 12px;\n",
              "        max-height: 500px;\n",
              "      }\n",
              "\n",
              "      pre.function-repr-contents.function-repr-contents-collapsed {\n",
              "        cursor: pointer;\n",
              "        max-height: 100px;\n",
              "      }\n",
              "    </style>\n",
              "    <pre style=\"white-space: initial; background:\n",
              "         var(--colab-secondary-surface-color); padding: 8px 12px;\n",
              "         border-bottom: 1px solid var(--colab-border-color);\"><b>sklearn.compose._column_transformer.ColumnTransformer.get_params</b><br/>def get_params(deep=True)</pre><pre class=\"function-repr-contents function-repr-contents-collapsed\" style=\"\"><a class=\"filepath\" style=\"display:none\" href=\"#\">/usr/local/lib/python3.10/dist-packages/sklearn/compose/_column_transformer.py</a>Get parameters for this estimator.\n",
              "\n",
              "Returns the parameters given in the constructor as well as the\n",
              "estimators contained within the `transformers` of the\n",
              "`ColumnTransformer`.\n",
              "\n",
              "Parameters\n",
              "----------\n",
              "deep : bool, default=True\n",
              "    If True, will return the parameters for this estimator and\n",
              "    contained subobjects that are estimators.\n",
              "\n",
              "Returns\n",
              "-------\n",
              "params : dict\n",
              "    Parameter names mapped to their values.</pre>\n",
              "      <script>\n",
              "      if (google.colab.kernel.accessAllowed && google.colab.files && google.colab.files.view) {\n",
              "        for (const element of document.querySelectorAll('.filepath')) {\n",
              "          element.style.display = 'block'\n",
              "          element.onclick = (event) => {\n",
              "            event.preventDefault();\n",
              "            event.stopPropagation();\n",
              "            google.colab.files.view(element.textContent, 291);\n",
              "          };\n",
              "        }\n",
              "      }\n",
              "      for (const element of document.querySelectorAll('.function-repr-contents')) {\n",
              "        element.onclick = (event) => {\n",
              "          event.preventDefault();\n",
              "          event.stopPropagation();\n",
              "          element.classList.toggle('function-repr-contents-collapsed');\n",
              "        };\n",
              "      }\n",
              "      </script>\n",
              "      </div>"
            ]
          },
          "metadata": {},
          "execution_count": 30
        }
      ]
    },
    {
      "cell_type": "code",
      "source": [
        "# Scaling\n",
        "trf2 = ColumnTransformer([(\"scale\", MinMaxScaler(), slice(0, 51))])"
      ],
      "metadata": {
        "id": "UGvXws43t4vD"
      },
      "execution_count": 31,
      "outputs": []
    },
    {
      "cell_type": "code",
      "source": [
        "# Label Encoder (for Categorical Targets Only)\n",
        "le = LabelEncoder()\n",
        "le.fit(train_target)\n",
        "\n",
        "train_target = le.transform(train_target)\n",
        "test_target = le.transform(test_target)"
      ],
      "metadata": {
        "id": "IVLFFq_Rt4se"
      },
      "execution_count": 32,
      "outputs": []
    },
    {
      "cell_type": "code",
      "source": [
        "# Creating classifier using XGBOOST Algorithm\n",
        "clf = xgb.XGBClassifier(\n",
        "    objective=\"multi:softmax\", num_class=4, eta=0.15, gamma=0.2, max_depth=5\n",
        ")\n",
        "\n",
        "pipe = Pipeline([(\"trf1\", trf1), (\"trf2\", trf2), (\"clf\", clf)])\n",
        "pipe.fit(train_input, train_target)\n",
        "\n",
        "\n",
        "pipe.named_steps"
      ],
      "metadata": {
        "colab": {
          "base_uri": "https://localhost:8080/"
        },
        "id": "BkWb2bUat4qI",
        "outputId": "41014a31-fc80-4cd7-efab-c424fb1360e7"
      },
      "execution_count": 33,
      "outputs": [
        {
          "output_type": "execute_result",
          "data": {
            "text/plain": [
              "{'trf1': ColumnTransformer(remainder='passthrough',\n",
              "                   transformers=[('ohe_martial_status',\n",
              "                                  OneHotEncoder(drop='first',\n",
              "                                                handle_unknown='ignore',\n",
              "                                                sparse_output=False),\n",
              "                                  ['MARITALSTATUS']),\n",
              "                                 ('ohe_gender',\n",
              "                                  OneHotEncoder(drop='first',\n",
              "                                                handle_unknown='ignore',\n",
              "                                                sparse_output=False),\n",
              "                                  ['GENDER']),\n",
              "                                 ('ohe_last_prod_enq2',\n",
              "                                  OneHotEncoder(drop='first',\n",
              "                                                handle_unknown='ignore',\n",
              "                                                sparse_output=False),\n",
              "                                  ['last_prod_enq2']),\n",
              "                                 ('ohe_first_prod_enq2',\n",
              "                                  OneHotEncoder(drop='first',\n",
              "                                                handle_unknown='ignore',\n",
              "                                                sparse_output=False),\n",
              "                                  ['first_prod_enq2']),\n",
              "                                 ('oe_education',\n",
              "                                  OrdinalEncoder(categories=[array([0, 1, 2, 3, 4, 5, 6])]),\n",
              "                                  ['EDUCATION'])]),\n",
              " 'trf2': ColumnTransformer(transformers=[('scale', MinMaxScaler(), slice(0, 51, None))]),\n",
              " 'clf': XGBClassifier(base_score=None, booster=None, callbacks=None,\n",
              "               colsample_bylevel=None, colsample_bynode=None,\n",
              "               colsample_bytree=None, device=None, early_stopping_rounds=None,\n",
              "               enable_categorical=False, eta=0.15, eval_metric=None,\n",
              "               feature_types=None, gamma=0.2, grow_policy=None,\n",
              "               importance_type=None, interaction_constraints=None,\n",
              "               learning_rate=None, max_bin=None, max_cat_threshold=None,\n",
              "               max_cat_to_onehot=None, max_delta_step=None, max_depth=5,\n",
              "               max_leaves=None, min_child_weight=None, missing=nan,\n",
              "               monotone_constraints=None, multi_strategy=None, n_estimators=None,\n",
              "               n_jobs=None, num_class=4, ...)}"
            ]
          },
          "metadata": {},
          "execution_count": 33
        }
      ]
    },
    {
      "cell_type": "markdown",
      "source": [
        "### To check Underfitting"
      ],
      "metadata": {
        "id": "t1HbtxfJyyw3"
      }
    },
    {
      "cell_type": "code",
      "source": [
        "train_pred = pipe.predict(train_input)"
      ],
      "metadata": {
        "id": "FrzFq9L6t4nV"
      },
      "execution_count": 34,
      "outputs": []
    },
    {
      "cell_type": "code",
      "source": [
        "from sklearn.metrics import accuracy_score, classification_report, precision_recall_fscore_support"
      ],
      "metadata": {
        "id": "dR1wgycRt4k4"
      },
      "execution_count": 35,
      "outputs": []
    },
    {
      "cell_type": "code",
      "source": [
        "accuracy_score(train_target,train_pred)"
      ],
      "metadata": {
        "colab": {
          "base_uri": "https://localhost:8080/"
        },
        "id": "-k2dxKiMvO9w",
        "outputId": "9448ebb4-1bc3-49af-dbcf-62c5aecaa6c7"
      },
      "execution_count": 36,
      "outputs": [
        {
          "output_type": "execute_result",
          "data": {
            "text/plain": [
              "0.8211345873822472"
            ]
          },
          "metadata": {},
          "execution_count": 36
        }
      ]
    },
    {
      "cell_type": "markdown",
      "source": [
        "### Model Accuracy"
      ],
      "metadata": {
        "id": "YuufAX4Iy-xx"
      }
    },
    {
      "cell_type": "code",
      "source": [
        "test_pred = pipe.predict(test_input)\n",
        "test_pred"
      ],
      "metadata": {
        "colab": {
          "base_uri": "https://localhost:8080/"
        },
        "id": "pUSm2PjVxAHS",
        "outputId": "5843feca-5a88-4d7e-addc-cf2505a4cba6"
      },
      "execution_count": 37,
      "outputs": [
        {
          "output_type": "execute_result",
          "data": {
            "text/plain": [
              "array([1, 3, 1, ..., 2, 1, 3], dtype=int32)"
            ]
          },
          "metadata": {},
          "execution_count": 37
        }
      ]
    },
    {
      "cell_type": "code",
      "source": [
        "accuracy_score(test_target,test_pred)"
      ],
      "metadata": {
        "colab": {
          "base_uri": "https://localhost:8080/"
        },
        "id": "4IVSCADvwObv",
        "outputId": "44ec7255-e9c1-48e3-c01e-100f22495171"
      },
      "execution_count": 38,
      "outputs": [
        {
          "output_type": "execute_result",
          "data": {
            "text/plain": [
              "0.7760608581956496"
            ]
          },
          "metadata": {},
          "execution_count": 38
        }
      ]
    },
    {
      "cell_type": "code",
      "source": [
        "overall_f1_score = precision_recall_fscore_support(test_target,test_pred, average='weighted')[2]\n",
        "print(f\"Overall F1 Score: {overall_f1_score:.2f}\")"
      ],
      "metadata": {
        "colab": {
          "base_uri": "https://localhost:8080/"
        },
        "id": "6evizaGZvPe3",
        "outputId": "e6054327-bc74-4710-dac2-35b2a04dafc5"
      },
      "execution_count": 39,
      "outputs": [
        {
          "output_type": "stream",
          "name": "stdout",
          "text": [
            "Overall F1 Score: 0.76\n"
          ]
        }
      ]
    },
    {
      "cell_type": "code",
      "source": [],
      "metadata": {
        "id": "aavW-1I9_ilz"
      },
      "execution_count": null,
      "outputs": []
    },
    {
      "cell_type": "markdown",
      "source": [
        "### Prediction on Unseen Data"
      ],
      "metadata": {
        "id": "pLPSOW7M_pUD"
      }
    },
    {
      "source": [
        "# Load the unseen data from an Excel file\n",
        "unseen_data = pd.read_excel(\"Unseen_Dataset.xlsx\")\n",
        "\n",
        "# Handle unknown categories in OrdinalEncoder\n",
        "# Get the OrdinalEncoder from the pipeline\n",
        "ordinal_encoder = pipe.named_steps['trf1'].transformers_[4][1]\n",
        "\n",
        "# Set handle_unknown to 'use_encoded_value' and unknown_value to -1\n",
        "ordinal_encoder.set_params(handle_unknown='use_encoded_value', unknown_value=-1)\n",
        "\n",
        "# Use the trained pipeline to predict the target variable for the unseen data\n",
        "predicted_labels = pipe.predict(unseen_data)\n",
        "\n",
        "# Add the predicted labels as a new column to the unseen data DataFrame\n",
        "unseen_data['Predicted_Label'] = predicted_labels\n",
        "\n",
        "# Save the updated DataFrame with the predicted labels to a new Excel file\n",
        "unseen_data.to_excel(\"unseen_data_with_predictions.xlsx\", index=False)\n",
        "\n",
        "# Print and display the predictions in a Jupyter Notebook\n",
        "print(\"Predictions for unseen data:\")"
      ],
      "cell_type": "code",
      "metadata": {
        "colab": {
          "base_uri": "https://localhost:8080/"
        },
        "id": "0RX5QtIc_Ep3",
        "outputId": "e227c4c5-0925-4a24-bb27-4ed14c417603"
      },
      "execution_count": 50,
      "outputs": [
        {
          "output_type": "stream",
          "name": "stdout",
          "text": [
            "Predictions for unseen data:\n"
          ]
        }
      ]
    },
    {
      "cell_type": "code",
      "source": [
        "unseen_data['Predicted_Label'].unique()"
      ],
      "metadata": {
        "colab": {
          "base_uri": "https://localhost:8080/"
        },
        "id": "9SoafX3g-5MF",
        "outputId": "3eb64cb2-6acb-42c3-9def-bb46eac81a25"
      },
      "execution_count": 49,
      "outputs": [
        {
          "output_type": "execute_result",
          "data": {
            "text/plain": [
              "array([1, 0, 2, 3], dtype=int32)"
            ]
          },
          "metadata": {},
          "execution_count": 49
        }
      ]
    },
    {
      "cell_type": "code",
      "source": [],
      "metadata": {
        "id": "J39emi0p_VOz"
      },
      "execution_count": null,
      "outputs": []
    }
  ]
}